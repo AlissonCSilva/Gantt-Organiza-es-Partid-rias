{
 "cells": [
  {
   "cell_type": "code",
   "execution_count": 1,
   "id": "15638f42",
   "metadata": {},
   "outputs": [],
   "source": [
    "import pandas as pd\n",
    "import plotly.express as px"
   ]
  },
  {
   "cell_type": "code",
   "execution_count": 2,
   "id": "6fe51fce",
   "metadata": {},
   "outputs": [],
   "source": [
    "depois = pd.read_excel('Dados_OP.xlsx')"
   ]
  },
  {
   "cell_type": "code",
   "execution_count": 3,
   "id": "11b11c35",
   "metadata": {},
   "outputs": [],
   "source": [
    "antes = pd.read_excel('antes.xlsx')"
   ]
  },
  {
   "cell_type": "code",
   "execution_count": 4,
   "id": "429cdf52",
   "metadata": {},
   "outputs": [],
   "source": [
    "df = [antes, depois]"
   ]
  },
  {
   "cell_type": "code",
   "execution_count": 5,
   "id": "64d709c8",
   "metadata": {},
   "outputs": [],
   "source": [
    "df = pd.concat(df)"
   ]
  },
  {
   "cell_type": "code",
   "execution_count": 6,
   "id": "f9ecb307",
   "metadata": {},
   "outputs": [
    {
     "data": {
      "text/html": [
       "<div>\n",
       "<style scoped>\n",
       "    .dataframe tbody tr th:only-of-type {\n",
       "        vertical-align: middle;\n",
       "    }\n",
       "\n",
       "    .dataframe tbody tr th {\n",
       "        vertical-align: top;\n",
       "    }\n",
       "\n",
       "    .dataframe thead th {\n",
       "        text-align: right;\n",
       "    }\n",
       "</style>\n",
       "<table border=\"1\" class=\"dataframe\">\n",
       "  <thead>\n",
       "    <tr style=\"text-align: right;\">\n",
       "      <th></th>\n",
       "      <th>Estado</th>\n",
       "      <th>Partido</th>\n",
       "      <th>Tipo do Órgão</th>\n",
       "      <th>Data Início Vigência</th>\n",
       "      <th>Data Fim Vigência</th>\n",
       "      <th>Município</th>\n",
       "    </tr>\n",
       "  </thead>\n",
       "  <tbody>\n",
       "    <tr>\n",
       "      <th>0</th>\n",
       "      <td>MG</td>\n",
       "      <td>PT</td>\n",
       "      <td>1</td>\n",
       "      <td>2011-04-05 00:00:00</td>\n",
       "      <td>2014-02-20 00:00:00</td>\n",
       "      <td>CORONEL PACHECO</td>\n",
       "    </tr>\n",
       "    <tr>\n",
       "      <th>1</th>\n",
       "      <td>CE</td>\n",
       "      <td>PSDB</td>\n",
       "      <td>1</td>\n",
       "      <td>2011-03-02 00:00:00</td>\n",
       "      <td>2011-04-16 00:00:00</td>\n",
       "      <td>LIMOEIRO DO NORTE</td>\n",
       "    </tr>\n",
       "    <tr>\n",
       "      <th>2</th>\n",
       "      <td>MG</td>\n",
       "      <td>PT</td>\n",
       "      <td>1</td>\n",
       "      <td>2011-04-05 00:00:00</td>\n",
       "      <td>2014-02-20 00:00:00</td>\n",
       "      <td>CORONEL PACHECO</td>\n",
       "    </tr>\n",
       "    <tr>\n",
       "      <th>3</th>\n",
       "      <td>MG</td>\n",
       "      <td>PT</td>\n",
       "      <td>1</td>\n",
       "      <td>2011-04-05 00:00:00</td>\n",
       "      <td>2014-02-20 00:00:00</td>\n",
       "      <td>CORONEL PACHECO</td>\n",
       "    </tr>\n",
       "    <tr>\n",
       "      <th>4</th>\n",
       "      <td>MG</td>\n",
       "      <td>PDT</td>\n",
       "      <td>1</td>\n",
       "      <td>2011-04-04 00:00:00</td>\n",
       "      <td>2011-07-02 00:00:00</td>\n",
       "      <td>JUATUBA</td>\n",
       "    </tr>\n",
       "    <tr>\n",
       "      <th>...</th>\n",
       "      <td>...</td>\n",
       "      <td>...</td>\n",
       "      <td>...</td>\n",
       "      <td>...</td>\n",
       "      <td>...</td>\n",
       "      <td>...</td>\n",
       "    </tr>\n",
       "    <tr>\n",
       "      <th>685377</th>\n",
       "      <td>TO</td>\n",
       "      <td>PSC</td>\n",
       "      <td>3</td>\n",
       "      <td>2007-11-12 00:00:00</td>\n",
       "      <td>NaT</td>\n",
       "      <td>PARAÍSO DO TOCANTINS</td>\n",
       "    </tr>\n",
       "    <tr>\n",
       "      <th>685378</th>\n",
       "      <td>RN</td>\n",
       "      <td>PODE</td>\n",
       "      <td>1</td>\n",
       "      <td>2016-04-01 00:00:00</td>\n",
       "      <td>2020-07-23 00:00:00</td>\n",
       "      <td>PEDRA PRETA</td>\n",
       "    </tr>\n",
       "    <tr>\n",
       "      <th>685379</th>\n",
       "      <td>RN</td>\n",
       "      <td>PSL</td>\n",
       "      <td>1</td>\n",
       "      <td>2015-09-30 00:00:00</td>\n",
       "      <td>2016-12-30 00:00:00</td>\n",
       "      <td>PENDÊNCIAS</td>\n",
       "    </tr>\n",
       "    <tr>\n",
       "      <th>685380</th>\n",
       "      <td>RR</td>\n",
       "      <td>PSC</td>\n",
       "      <td>1</td>\n",
       "      <td>2016-05-02 00:00:00</td>\n",
       "      <td>2018-04-18 00:00:00</td>\n",
       "      <td>CARACARAÍ</td>\n",
       "    </tr>\n",
       "    <tr>\n",
       "      <th>685381</th>\n",
       "      <td>RR</td>\n",
       "      <td>PSL</td>\n",
       "      <td>1</td>\n",
       "      <td>2012-06-04 00:00:00</td>\n",
       "      <td>2020-01-28 00:00:00</td>\n",
       "      <td>CAROEBE</td>\n",
       "    </tr>\n",
       "  </tbody>\n",
       "</table>\n",
       "<p>1460416 rows × 6 columns</p>\n",
       "</div>"
      ],
      "text/plain": [
       "       Estado Partido  Tipo do Órgão Data Início Vigência  \\\n",
       "0          MG      PT              1  2011-04-05 00:00:00   \n",
       "1          CE    PSDB              1  2011-03-02 00:00:00   \n",
       "2          MG      PT              1  2011-04-05 00:00:00   \n",
       "3          MG      PT              1  2011-04-05 00:00:00   \n",
       "4          MG     PDT              1  2011-04-04 00:00:00   \n",
       "...       ...     ...            ...                  ...   \n",
       "685377     TO     PSC              3  2007-11-12 00:00:00   \n",
       "685378     RN    PODE              1  2016-04-01 00:00:00   \n",
       "685379     RN     PSL              1  2015-09-30 00:00:00   \n",
       "685380     RR     PSC              1  2016-05-02 00:00:00   \n",
       "685381     RR     PSL              1  2012-06-04 00:00:00   \n",
       "\n",
       "          Data Fim Vigência             Município  \n",
       "0       2014-02-20 00:00:00       CORONEL PACHECO  \n",
       "1       2011-04-16 00:00:00     LIMOEIRO DO NORTE  \n",
       "2       2014-02-20 00:00:00       CORONEL PACHECO  \n",
       "3       2014-02-20 00:00:00       CORONEL PACHECO  \n",
       "4       2011-07-02 00:00:00               JUATUBA  \n",
       "...                     ...                   ...  \n",
       "685377                  NaT  PARAÍSO DO TOCANTINS  \n",
       "685378  2020-07-23 00:00:00           PEDRA PRETA  \n",
       "685379  2016-12-30 00:00:00            PENDÊNCIAS  \n",
       "685380  2018-04-18 00:00:00             CARACARAÍ  \n",
       "685381  2020-01-28 00:00:00               CAROEBE  \n",
       "\n",
       "[1460416 rows x 6 columns]"
      ]
     },
     "execution_count": 6,
     "metadata": {},
     "output_type": "execute_result"
    }
   ],
   "source": [
    "df"
   ]
  },
  {
   "cell_type": "code",
   "execution_count": 8,
   "id": "c49c707f",
   "metadata": {},
   "outputs": [],
   "source": [
    "def funcao_temporal_all(df, partido, cidade, estado, condicao):\n",
    "\n",
    "    \n",
    "    df['nova_data']=df['Data Fim Vigência'].astype(str)\n",
    "    \n",
    "    df['tipo']=df['Tipo do Órgão'].astype(str)\n",
    "    \n",
    "    df['concat'] = df.Partido + df.nova_data + df.tipo + df.Município\n",
    "    \n",
    "    df = df.dropna(subset=['Data Fim Vigência'], axis = 0)\n",
    "    \n",
    "    df = df.dropna(subset=['Data Início Vigência'], axis = 0)\n",
    "\n",
    "    \n",
    "    df = df.sort_values('concat', ascending=False)\n",
    "    \n",
    "    df = df.drop_duplicates(subset='concat', keep='first')\n",
    "  \n",
    "    if cidade == 'Todos':\n",
    "        df = df[df.Município == df.Município]\n",
    "    else:\n",
    "        df = df[df.Município == cidade]\n",
    "    \n",
    "    \n",
    "    if partido == 'Todos':\n",
    "        df = df[df.Partido == df.Partido]\n",
    "    else:\n",
    "        df = df[df.Partido == partido]\n",
    "        \n",
    "        \n",
    "    if estado == 'Todos':\n",
    "        df = df[df.Estado == df.Estado]\n",
    "    else:\n",
    "        df = df[df.Estado == estado]\n",
    "    \n",
    "        \n",
    "    fig = px.timeline(df, x_start=\"Data Início Vigência\", x_end=\"Data Fim Vigência\", y= condicao, color = 'Tipo do Órgão')\n",
    "    fig.update_yaxes(autorange=\"reversed\")\n",
    "    fig.show()"
   ]
  },
  {
   "cell_type": "code",
   "execution_count": 10,
   "id": "14c4f651",
   "metadata": {},
   "outputs": [
    {
     "data": {
      "application/vnd.plotly.v1+json": {
       "config": {
        "plotlyServerURL": "https://plot.ly"
       },
       "data": [
        {
         "alignmentgroup": "True",
         "base": [
          "2020-01-13T00:00:00",
          "2018-01-08T00:00:00",
          "2013-10-10T00:00:00",
          "2019-05-16T00:00:00",
          "2018-03-01T00:00:00",
          "2015-07-27T00:00:00",
          "2016-08-04T00:00:00",
          "2018-03-28T00:00:00",
          "2015-05-07T00:00:00",
          "2020-03-25T00:00:00",
          "2015-09-23T00:00:00",
          "2020-04-07T00:00:00",
          "2018-02-26T00:00:00",
          "2017-11-22T00:00:00",
          "2017-07-22T00:00:00",
          "2016-05-02T00:00:00",
          "2020-03-09T00:00:00",
          "2017-07-30T00:00:00",
          "2013-12-06T00:00:00",
          "2010-04-20T00:00:00",
          "2007-12-02T00:00:00",
          "2012-04-20T00:00:00",
          "2019-10-10T00:00:00",
          "2016-06-06T00:00:00",
          "2020-06-22T00:00:00",
          "2019-12-20T00:00:00",
          "2019-10-22T00:00:00",
          "2017-08-01T00:00:00",
          "2016-04-29T00:00:00",
          "2019-07-31T00:00:00",
          "2017-10-20T00:00:00",
          "2015-08-03T00:00:00",
          "2013-03-17T00:00:00",
          "2011-03-13T00:00:00",
          "2007-08-19T00:00:00",
          "2020-01-04T00:00:00",
          "2016-07-21T00:00:00",
          "2020-08-24T00:00:00",
          "2016-03-07T00:00:00",
          "2018-02-19T00:00:00",
          "2016-03-22T00:00:00",
          "2020-06-02T00:00:00",
          "2017-08-04T00:00:00",
          "2016-07-07T00:00:00",
          "2020-06-05T00:00:00",
          "2017-09-04T00:00:00",
          "2012-05-03T00:00:00",
          "2020-09-08T00:00:00",
          "2020-08-29T00:00:00",
          "2020-01-20T00:00:00",
          "2018-05-04T00:00:00",
          "2017-12-28T00:00:00",
          "2017-04-24T00:00:00",
          "2016-03-31T00:00:00",
          "2011-09-12T00:00:00",
          "2009-08-16T00:00:00",
          "2019-04-11T00:00:00",
          "2015-07-27T00:00:00",
          "2012-07-18T00:00:00",
          "2014-03-11T00:00:00",
          "2013-06-23T00:00:00",
          "2012-05-08T00:00:00",
          "2012-02-15T00:00:00",
          "2011-06-14T00:00:00",
          "2009-10-26T00:00:00",
          "2006-10-22T00:00:00",
          "2020-04-24T00:00:00",
          "2016-03-09T00:00:00",
          "2020-01-31T00:00:00",
          "2019-03-14T00:00:00",
          "2017-12-08T00:00:00",
          "2015-06-18T00:00:00",
          "2020-01-06T00:00:00",
          "2017-10-09T00:00:00",
          "2016-04-25T00:00:00",
          "2016-02-19T00:00:00",
          "2015-09-25T00:00:00",
          "2011-09-13T00:00:00",
          "2011-02-01T00:00:00",
          "2009-09-18T00:00:00",
          "2019-12-20T00:00:00",
          "2018-02-09T00:00:00",
          "2015-11-16T00:00:00",
          "2020-08-07T00:00:00",
          "2020-02-14T00:00:00",
          "2015-09-25T00:00:00",
          "2019-12-12T00:00:00",
          "2017-09-27T00:00:00",
          "2015-08-31T00:00:00",
          "2020-03-30T00:00:00",
          "2016-07-13T00:00:00",
          "2020-04-03T00:00:00",
          "2016-03-23T00:00:00",
          "2018-05-08T00:00:00",
          "2014-03-31T00:00:00",
          "2020-08-25T00:00:00",
          "2017-12-07T00:00:00",
          "2015-08-24T00:00:00"
         ],
         "hovertemplate": "Data Início Vigência=%{base}<br>Data Fim Vigência=%{x}<br>Partido=%{y}<br>Tipo do Órgão=%{marker.color}<extra></extra>",
         "legendgroup": "",
         "marker": {
          "color": [
           1,
           1,
           1,
           1,
           1,
           1,
           1,
           1,
           1,
           1,
           1,
           1,
           1,
           1,
           1,
           1,
           3,
           3,
           3,
           3,
           3,
           3,
           3,
           3,
           3,
           1,
           1,
           3,
           1,
           3,
           3,
           1,
           3,
           3,
           3,
           1,
           1,
           1,
           1,
           3,
           1,
           1,
           1,
           1,
           1,
           1,
           1,
           1,
           1,
           1,
           1,
           3,
           1,
           1,
           2,
           3,
           1,
           1,
           1,
           1,
           1,
           1,
           1,
           1,
           3,
           3,
           1,
           1,
           1,
           3,
           1,
           1,
           1,
           1,
           1,
           1,
           1,
           3,
           1,
           1,
           1,
           1,
           1,
           3,
           1,
           1,
           1,
           3,
           3,
           1,
           1,
           1,
           1,
           3,
           3,
           1,
           1,
           1
          ],
          "coloraxis": "coloraxis"
         },
         "name": "",
         "offsetgroup": "",
         "orientation": "h",
         "showlegend": false,
         "textposition": "auto",
         "type": "bar",
         "x": [
          252460800000,
          60652800000,
          122256000000,
          51408000000,
          31536000000,
          63590400000,
          33868800000,
          94694400000,
          63158400000,
          24192000000,
          46051200000,
          31536000000,
          66528000000,
          7948800000,
          10627200000,
          38534400000,
          118627200000,
          76377600000,
          115084800000,
          114566400000,
          75168000000,
          47347200000,
          78883200000,
          63072000000,
          16588800000,
          15724800000,
          1900800000,
          62208000000,
          21254400000,
          52704000000,
          55987200000,
          68860800000,
          75081600000,
          63504000000,
          112492800000,
          75427200000,
          108950400000,
          63072000000,
          58924800000,
          94694400000,
          53481600000,
          15811200000,
          44409600000,
          15292800000,
          23241600000,
          38188800000,
          20131200000,
          15552000000,
          518400000,
          19094400000,
          10627200000,
          10800000000,
          18835200000,
          33264000000,
          142646400000,
          63072000000,
          85968000000,
          116726400000,
          77414400000,
          7430400000,
          22550400000,
          33350400000,
          7171200000,
          21168000000,
          51494400000,
          94953600000,
          15552000000,
          42768000000,
          63936000000,
          26611200000,
          39744000000,
          78019200000,
          31622400000,
          32572800000,
          40176000000,
          4579200000,
          7862400000,
          52272000000,
          16588800000,
          42249600000,
          59788800000,
          53136000000,
          65664000000,
          22982400000,
          15033600000,
          138326400000,
          32313600000,
          69552000000,
          65491200000,
          23846400000,
          116640000000,
          15811200000,
          15897600000,
          126230400000,
          128476800000,
          11059200000,
          85622400000,
          71107200000
         ],
         "xaxis": "x",
         "y": [
          "SOLIDARIEDADE",
          "SOLIDARIEDADE",
          "SOLIDARIEDADE",
          "REPUBLICANOS",
          "REPUBLICANOS",
          "REPUBLICANOS",
          "REDE",
          "PV",
          "PV",
          "PTC",
          "PTC",
          "PTB",
          "PTB",
          "PTB",
          "PTB",
          "PTB",
          "PT",
          "PT",
          "PT",
          "PT",
          "PT",
          "PSTU",
          "PSOL",
          "PSOL",
          "PSL",
          "PSL",
          "PSL",
          "PSL",
          "PSL",
          "PSDB",
          "PSDB",
          "PSDB",
          "PSDB",
          "PSDB",
          "PSDB",
          "PSD",
          "PSD",
          "PSC",
          "PSC",
          "PSB",
          "PSB",
          "PRTB",
          "PRTB",
          "PRTB",
          "PROS",
          "PROS",
          "PPL",
          "PP",
          "PP",
          "PP",
          "PP",
          "PP",
          "PP",
          "PP",
          "PP",
          "PP",
          "PODE",
          "PODE",
          "PMN",
          "PMDB",
          "PMDB",
          "PMDB",
          "PMDB",
          "PMDB",
          "PMDB",
          "PMDB",
          "PMB",
          "PMB",
          "PL",
          "PL",
          "PL",
          "PL",
          "PDT",
          "PDT",
          "PDT",
          "PDT",
          "PDT",
          "PDT",
          "PDT",
          "PDT",
          "PCDOB",
          "PCDOB",
          "PCDOB",
          "PATRIOTA",
          "PATRIOTA",
          "PATRIOTA",
          "MDB",
          "MDB",
          "MDB",
          "DEM",
          "DEM",
          "DC",
          "DC",
          "CIDADANIA",
          "CIDADANIA",
          "AVANTE",
          "AVANTE",
          "AVANTE"
         ],
         "yaxis": "y"
        }
       ],
       "layout": {
        "barmode": "overlay",
        "coloraxis": {
         "colorbar": {
          "title": {
           "text": "Tipo do Órgão"
          }
         },
         "colorscale": [
          [
           0,
           "#0d0887"
          ],
          [
           0.1111111111111111,
           "#46039f"
          ],
          [
           0.2222222222222222,
           "#7201a8"
          ],
          [
           0.3333333333333333,
           "#9c179e"
          ],
          [
           0.4444444444444444,
           "#bd3786"
          ],
          [
           0.5555555555555556,
           "#d8576b"
          ],
          [
           0.6666666666666666,
           "#ed7953"
          ],
          [
           0.7777777777777778,
           "#fb9f3a"
          ],
          [
           0.8888888888888888,
           "#fdca26"
          ],
          [
           1,
           "#f0f921"
          ]
         ]
        },
        "legend": {
         "tracegroupgap": 0
        },
        "margin": {
         "t": 60
        },
        "template": {
         "data": {
          "bar": [
           {
            "error_x": {
             "color": "#2a3f5f"
            },
            "error_y": {
             "color": "#2a3f5f"
            },
            "marker": {
             "line": {
              "color": "#E5ECF6",
              "width": 0.5
             },
             "pattern": {
              "fillmode": "overlay",
              "size": 10,
              "solidity": 0.2
             }
            },
            "type": "bar"
           }
          ],
          "barpolar": [
           {
            "marker": {
             "line": {
              "color": "#E5ECF6",
              "width": 0.5
             },
             "pattern": {
              "fillmode": "overlay",
              "size": 10,
              "solidity": 0.2
             }
            },
            "type": "barpolar"
           }
          ],
          "carpet": [
           {
            "aaxis": {
             "endlinecolor": "#2a3f5f",
             "gridcolor": "white",
             "linecolor": "white",
             "minorgridcolor": "white",
             "startlinecolor": "#2a3f5f"
            },
            "baxis": {
             "endlinecolor": "#2a3f5f",
             "gridcolor": "white",
             "linecolor": "white",
             "minorgridcolor": "white",
             "startlinecolor": "#2a3f5f"
            },
            "type": "carpet"
           }
          ],
          "choropleth": [
           {
            "colorbar": {
             "outlinewidth": 0,
             "ticks": ""
            },
            "type": "choropleth"
           }
          ],
          "contour": [
           {
            "colorbar": {
             "outlinewidth": 0,
             "ticks": ""
            },
            "colorscale": [
             [
              0,
              "#0d0887"
             ],
             [
              0.1111111111111111,
              "#46039f"
             ],
             [
              0.2222222222222222,
              "#7201a8"
             ],
             [
              0.3333333333333333,
              "#9c179e"
             ],
             [
              0.4444444444444444,
              "#bd3786"
             ],
             [
              0.5555555555555556,
              "#d8576b"
             ],
             [
              0.6666666666666666,
              "#ed7953"
             ],
             [
              0.7777777777777778,
              "#fb9f3a"
             ],
             [
              0.8888888888888888,
              "#fdca26"
             ],
             [
              1,
              "#f0f921"
             ]
            ],
            "type": "contour"
           }
          ],
          "contourcarpet": [
           {
            "colorbar": {
             "outlinewidth": 0,
             "ticks": ""
            },
            "type": "contourcarpet"
           }
          ],
          "heatmap": [
           {
            "colorbar": {
             "outlinewidth": 0,
             "ticks": ""
            },
            "colorscale": [
             [
              0,
              "#0d0887"
             ],
             [
              0.1111111111111111,
              "#46039f"
             ],
             [
              0.2222222222222222,
              "#7201a8"
             ],
             [
              0.3333333333333333,
              "#9c179e"
             ],
             [
              0.4444444444444444,
              "#bd3786"
             ],
             [
              0.5555555555555556,
              "#d8576b"
             ],
             [
              0.6666666666666666,
              "#ed7953"
             ],
             [
              0.7777777777777778,
              "#fb9f3a"
             ],
             [
              0.8888888888888888,
              "#fdca26"
             ],
             [
              1,
              "#f0f921"
             ]
            ],
            "type": "heatmap"
           }
          ],
          "heatmapgl": [
           {
            "colorbar": {
             "outlinewidth": 0,
             "ticks": ""
            },
            "colorscale": [
             [
              0,
              "#0d0887"
             ],
             [
              0.1111111111111111,
              "#46039f"
             ],
             [
              0.2222222222222222,
              "#7201a8"
             ],
             [
              0.3333333333333333,
              "#9c179e"
             ],
             [
              0.4444444444444444,
              "#bd3786"
             ],
             [
              0.5555555555555556,
              "#d8576b"
             ],
             [
              0.6666666666666666,
              "#ed7953"
             ],
             [
              0.7777777777777778,
              "#fb9f3a"
             ],
             [
              0.8888888888888888,
              "#fdca26"
             ],
             [
              1,
              "#f0f921"
             ]
            ],
            "type": "heatmapgl"
           }
          ],
          "histogram": [
           {
            "marker": {
             "pattern": {
              "fillmode": "overlay",
              "size": 10,
              "solidity": 0.2
             }
            },
            "type": "histogram"
           }
          ],
          "histogram2d": [
           {
            "colorbar": {
             "outlinewidth": 0,
             "ticks": ""
            },
            "colorscale": [
             [
              0,
              "#0d0887"
             ],
             [
              0.1111111111111111,
              "#46039f"
             ],
             [
              0.2222222222222222,
              "#7201a8"
             ],
             [
              0.3333333333333333,
              "#9c179e"
             ],
             [
              0.4444444444444444,
              "#bd3786"
             ],
             [
              0.5555555555555556,
              "#d8576b"
             ],
             [
              0.6666666666666666,
              "#ed7953"
             ],
             [
              0.7777777777777778,
              "#fb9f3a"
             ],
             [
              0.8888888888888888,
              "#fdca26"
             ],
             [
              1,
              "#f0f921"
             ]
            ],
            "type": "histogram2d"
           }
          ],
          "histogram2dcontour": [
           {
            "colorbar": {
             "outlinewidth": 0,
             "ticks": ""
            },
            "colorscale": [
             [
              0,
              "#0d0887"
             ],
             [
              0.1111111111111111,
              "#46039f"
             ],
             [
              0.2222222222222222,
              "#7201a8"
             ],
             [
              0.3333333333333333,
              "#9c179e"
             ],
             [
              0.4444444444444444,
              "#bd3786"
             ],
             [
              0.5555555555555556,
              "#d8576b"
             ],
             [
              0.6666666666666666,
              "#ed7953"
             ],
             [
              0.7777777777777778,
              "#fb9f3a"
             ],
             [
              0.8888888888888888,
              "#fdca26"
             ],
             [
              1,
              "#f0f921"
             ]
            ],
            "type": "histogram2dcontour"
           }
          ],
          "mesh3d": [
           {
            "colorbar": {
             "outlinewidth": 0,
             "ticks": ""
            },
            "type": "mesh3d"
           }
          ],
          "parcoords": [
           {
            "line": {
             "colorbar": {
              "outlinewidth": 0,
              "ticks": ""
             }
            },
            "type": "parcoords"
           }
          ],
          "pie": [
           {
            "automargin": true,
            "type": "pie"
           }
          ],
          "scatter": [
           {
            "marker": {
             "colorbar": {
              "outlinewidth": 0,
              "ticks": ""
             }
            },
            "type": "scatter"
           }
          ],
          "scatter3d": [
           {
            "line": {
             "colorbar": {
              "outlinewidth": 0,
              "ticks": ""
             }
            },
            "marker": {
             "colorbar": {
              "outlinewidth": 0,
              "ticks": ""
             }
            },
            "type": "scatter3d"
           }
          ],
          "scattercarpet": [
           {
            "marker": {
             "colorbar": {
              "outlinewidth": 0,
              "ticks": ""
             }
            },
            "type": "scattercarpet"
           }
          ],
          "scattergeo": [
           {
            "marker": {
             "colorbar": {
              "outlinewidth": 0,
              "ticks": ""
             }
            },
            "type": "scattergeo"
           }
          ],
          "scattergl": [
           {
            "marker": {
             "colorbar": {
              "outlinewidth": 0,
              "ticks": ""
             }
            },
            "type": "scattergl"
           }
          ],
          "scattermapbox": [
           {
            "marker": {
             "colorbar": {
              "outlinewidth": 0,
              "ticks": ""
             }
            },
            "type": "scattermapbox"
           }
          ],
          "scatterpolar": [
           {
            "marker": {
             "colorbar": {
              "outlinewidth": 0,
              "ticks": ""
             }
            },
            "type": "scatterpolar"
           }
          ],
          "scatterpolargl": [
           {
            "marker": {
             "colorbar": {
              "outlinewidth": 0,
              "ticks": ""
             }
            },
            "type": "scatterpolargl"
           }
          ],
          "scatterternary": [
           {
            "marker": {
             "colorbar": {
              "outlinewidth": 0,
              "ticks": ""
             }
            },
            "type": "scatterternary"
           }
          ],
          "surface": [
           {
            "colorbar": {
             "outlinewidth": 0,
             "ticks": ""
            },
            "colorscale": [
             [
              0,
              "#0d0887"
             ],
             [
              0.1111111111111111,
              "#46039f"
             ],
             [
              0.2222222222222222,
              "#7201a8"
             ],
             [
              0.3333333333333333,
              "#9c179e"
             ],
             [
              0.4444444444444444,
              "#bd3786"
             ],
             [
              0.5555555555555556,
              "#d8576b"
             ],
             [
              0.6666666666666666,
              "#ed7953"
             ],
             [
              0.7777777777777778,
              "#fb9f3a"
             ],
             [
              0.8888888888888888,
              "#fdca26"
             ],
             [
              1,
              "#f0f921"
             ]
            ],
            "type": "surface"
           }
          ],
          "table": [
           {
            "cells": {
             "fill": {
              "color": "#EBF0F8"
             },
             "line": {
              "color": "white"
             }
            },
            "header": {
             "fill": {
              "color": "#C8D4E3"
             },
             "line": {
              "color": "white"
             }
            },
            "type": "table"
           }
          ]
         },
         "layout": {
          "annotationdefaults": {
           "arrowcolor": "#2a3f5f",
           "arrowhead": 0,
           "arrowwidth": 1
          },
          "autotypenumbers": "strict",
          "coloraxis": {
           "colorbar": {
            "outlinewidth": 0,
            "ticks": ""
           }
          },
          "colorscale": {
           "diverging": [
            [
             0,
             "#8e0152"
            ],
            [
             0.1,
             "#c51b7d"
            ],
            [
             0.2,
             "#de77ae"
            ],
            [
             0.3,
             "#f1b6da"
            ],
            [
             0.4,
             "#fde0ef"
            ],
            [
             0.5,
             "#f7f7f7"
            ],
            [
             0.6,
             "#e6f5d0"
            ],
            [
             0.7,
             "#b8e186"
            ],
            [
             0.8,
             "#7fbc41"
            ],
            [
             0.9,
             "#4d9221"
            ],
            [
             1,
             "#276419"
            ]
           ],
           "sequential": [
            [
             0,
             "#0d0887"
            ],
            [
             0.1111111111111111,
             "#46039f"
            ],
            [
             0.2222222222222222,
             "#7201a8"
            ],
            [
             0.3333333333333333,
             "#9c179e"
            ],
            [
             0.4444444444444444,
             "#bd3786"
            ],
            [
             0.5555555555555556,
             "#d8576b"
            ],
            [
             0.6666666666666666,
             "#ed7953"
            ],
            [
             0.7777777777777778,
             "#fb9f3a"
            ],
            [
             0.8888888888888888,
             "#fdca26"
            ],
            [
             1,
             "#f0f921"
            ]
           ],
           "sequentialminus": [
            [
             0,
             "#0d0887"
            ],
            [
             0.1111111111111111,
             "#46039f"
            ],
            [
             0.2222222222222222,
             "#7201a8"
            ],
            [
             0.3333333333333333,
             "#9c179e"
            ],
            [
             0.4444444444444444,
             "#bd3786"
            ],
            [
             0.5555555555555556,
             "#d8576b"
            ],
            [
             0.6666666666666666,
             "#ed7953"
            ],
            [
             0.7777777777777778,
             "#fb9f3a"
            ],
            [
             0.8888888888888888,
             "#fdca26"
            ],
            [
             1,
             "#f0f921"
            ]
           ]
          },
          "colorway": [
           "#636efa",
           "#EF553B",
           "#00cc96",
           "#ab63fa",
           "#FFA15A",
           "#19d3f3",
           "#FF6692",
           "#B6E880",
           "#FF97FF",
           "#FECB52"
          ],
          "font": {
           "color": "#2a3f5f"
          },
          "geo": {
           "bgcolor": "white",
           "lakecolor": "white",
           "landcolor": "#E5ECF6",
           "showlakes": true,
           "showland": true,
           "subunitcolor": "white"
          },
          "hoverlabel": {
           "align": "left"
          },
          "hovermode": "closest",
          "mapbox": {
           "style": "light"
          },
          "paper_bgcolor": "white",
          "plot_bgcolor": "#E5ECF6",
          "polar": {
           "angularaxis": {
            "gridcolor": "white",
            "linecolor": "white",
            "ticks": ""
           },
           "bgcolor": "#E5ECF6",
           "radialaxis": {
            "gridcolor": "white",
            "linecolor": "white",
            "ticks": ""
           }
          },
          "scene": {
           "xaxis": {
            "backgroundcolor": "#E5ECF6",
            "gridcolor": "white",
            "gridwidth": 2,
            "linecolor": "white",
            "showbackground": true,
            "ticks": "",
            "zerolinecolor": "white"
           },
           "yaxis": {
            "backgroundcolor": "#E5ECF6",
            "gridcolor": "white",
            "gridwidth": 2,
            "linecolor": "white",
            "showbackground": true,
            "ticks": "",
            "zerolinecolor": "white"
           },
           "zaxis": {
            "backgroundcolor": "#E5ECF6",
            "gridcolor": "white",
            "gridwidth": 2,
            "linecolor": "white",
            "showbackground": true,
            "ticks": "",
            "zerolinecolor": "white"
           }
          },
          "shapedefaults": {
           "line": {
            "color": "#2a3f5f"
           }
          },
          "ternary": {
           "aaxis": {
            "gridcolor": "white",
            "linecolor": "white",
            "ticks": ""
           },
           "baxis": {
            "gridcolor": "white",
            "linecolor": "white",
            "ticks": ""
           },
           "bgcolor": "#E5ECF6",
           "caxis": {
            "gridcolor": "white",
            "linecolor": "white",
            "ticks": ""
           }
          },
          "title": {
           "x": 0.05
          },
          "xaxis": {
           "automargin": true,
           "gridcolor": "white",
           "linecolor": "white",
           "ticks": "",
           "title": {
            "standoff": 15
           },
           "zerolinecolor": "white",
           "zerolinewidth": 2
          },
          "yaxis": {
           "automargin": true,
           "gridcolor": "white",
           "linecolor": "white",
           "ticks": "",
           "title": {
            "standoff": 15
           },
           "zerolinecolor": "white",
           "zerolinewidth": 2
          }
         }
        },
        "xaxis": {
         "anchor": "y",
         "domain": [
          0,
          1
         ],
         "type": "date"
        },
        "yaxis": {
         "anchor": "x",
         "autorange": "reversed",
         "domain": [
          0,
          1
         ],
         "title": {
          "text": "Partido"
         }
        }
       }
      },
      "text/html": [
       "<div>                            <div id=\"2c8fe831-89cb-4eea-b8cc-5893db10f2aa\" class=\"plotly-graph-div\" style=\"height:525px; width:100%;\"></div>            <script type=\"text/javascript\">                require([\"plotly\"], function(Plotly) {                    window.PLOTLYENV=window.PLOTLYENV || {};                                    if (document.getElementById(\"2c8fe831-89cb-4eea-b8cc-5893db10f2aa\")) {                    Plotly.newPlot(                        \"2c8fe831-89cb-4eea-b8cc-5893db10f2aa\",                        [{\"alignmentgroup\":\"True\",\"base\":[\"2020-01-13T00:00:00\",\"2018-01-08T00:00:00\",\"2013-10-10T00:00:00\",\"2019-05-16T00:00:00\",\"2018-03-01T00:00:00\",\"2015-07-27T00:00:00\",\"2016-08-04T00:00:00\",\"2018-03-28T00:00:00\",\"2015-05-07T00:00:00\",\"2020-03-25T00:00:00\",\"2015-09-23T00:00:00\",\"2020-04-07T00:00:00\",\"2018-02-26T00:00:00\",\"2017-11-22T00:00:00\",\"2017-07-22T00:00:00\",\"2016-05-02T00:00:00\",\"2020-03-09T00:00:00\",\"2017-07-30T00:00:00\",\"2013-12-06T00:00:00\",\"2010-04-20T00:00:00\",\"2007-12-02T00:00:00\",\"2012-04-20T00:00:00\",\"2019-10-10T00:00:00\",\"2016-06-06T00:00:00\",\"2020-06-22T00:00:00\",\"2019-12-20T00:00:00\",\"2019-10-22T00:00:00\",\"2017-08-01T00:00:00\",\"2016-04-29T00:00:00\",\"2019-07-31T00:00:00\",\"2017-10-20T00:00:00\",\"2015-08-03T00:00:00\",\"2013-03-17T00:00:00\",\"2011-03-13T00:00:00\",\"2007-08-19T00:00:00\",\"2020-01-04T00:00:00\",\"2016-07-21T00:00:00\",\"2020-08-24T00:00:00\",\"2016-03-07T00:00:00\",\"2018-02-19T00:00:00\",\"2016-03-22T00:00:00\",\"2020-06-02T00:00:00\",\"2017-08-04T00:00:00\",\"2016-07-07T00:00:00\",\"2020-06-05T00:00:00\",\"2017-09-04T00:00:00\",\"2012-05-03T00:00:00\",\"2020-09-08T00:00:00\",\"2020-08-29T00:00:00\",\"2020-01-20T00:00:00\",\"2018-05-04T00:00:00\",\"2017-12-28T00:00:00\",\"2017-04-24T00:00:00\",\"2016-03-31T00:00:00\",\"2011-09-12T00:00:00\",\"2009-08-16T00:00:00\",\"2019-04-11T00:00:00\",\"2015-07-27T00:00:00\",\"2012-07-18T00:00:00\",\"2014-03-11T00:00:00\",\"2013-06-23T00:00:00\",\"2012-05-08T00:00:00\",\"2012-02-15T00:00:00\",\"2011-06-14T00:00:00\",\"2009-10-26T00:00:00\",\"2006-10-22T00:00:00\",\"2020-04-24T00:00:00\",\"2016-03-09T00:00:00\",\"2020-01-31T00:00:00\",\"2019-03-14T00:00:00\",\"2017-12-08T00:00:00\",\"2015-06-18T00:00:00\",\"2020-01-06T00:00:00\",\"2017-10-09T00:00:00\",\"2016-04-25T00:00:00\",\"2016-02-19T00:00:00\",\"2015-09-25T00:00:00\",\"2011-09-13T00:00:00\",\"2011-02-01T00:00:00\",\"2009-09-18T00:00:00\",\"2019-12-20T00:00:00\",\"2018-02-09T00:00:00\",\"2015-11-16T00:00:00\",\"2020-08-07T00:00:00\",\"2020-02-14T00:00:00\",\"2015-09-25T00:00:00\",\"2019-12-12T00:00:00\",\"2017-09-27T00:00:00\",\"2015-08-31T00:00:00\",\"2020-03-30T00:00:00\",\"2016-07-13T00:00:00\",\"2020-04-03T00:00:00\",\"2016-03-23T00:00:00\",\"2018-05-08T00:00:00\",\"2014-03-31T00:00:00\",\"2020-08-25T00:00:00\",\"2017-12-07T00:00:00\",\"2015-08-24T00:00:00\"],\"hovertemplate\":\"Data In\\u00edcio Vig\\u00eancia=%{base}<br>Data Fim Vig\\u00eancia=%{x}<br>Partido=%{y}<br>Tipo do \\u00d3rg\\u00e3o=%{marker.color}<extra></extra>\",\"legendgroup\":\"\",\"marker\":{\"color\":[1,1,1,1,1,1,1,1,1,1,1,1,1,1,1,1,3,3,3,3,3,3,3,3,3,1,1,3,1,3,3,1,3,3,3,1,1,1,1,3,1,1,1,1,1,1,1,1,1,1,1,3,1,1,2,3,1,1,1,1,1,1,1,1,3,3,1,1,1,3,1,1,1,1,1,1,1,3,1,1,1,1,1,3,1,1,1,3,3,1,1,1,1,3,3,1,1,1],\"coloraxis\":\"coloraxis\"},\"name\":\"\",\"offsetgroup\":\"\",\"orientation\":\"h\",\"showlegend\":false,\"textposition\":\"auto\",\"x\":[252460800000.0,60652800000.0,122256000000.0,51408000000.0,31536000000.0,63590400000.0,33868800000.0,94694400000.0,63158400000.0,24192000000.0,46051200000.0,31536000000.0,66528000000.0,7948800000.0,10627200000.0,38534400000.0,118627200000.0,76377600000.0,115084800000.0,114566400000.0,75168000000.0,47347200000.0,78883200000.0,63072000000.0,16588800000.0,15724800000.0,1900800000.0,62208000000.0,21254400000.0,52704000000.0,55987200000.0,68860800000.0,75081600000.0,63504000000.0,112492800000.0,75427200000.0,108950400000.0,63072000000.0,58924800000.0,94694400000.0,53481600000.0,15811200000.0,44409600000.0,15292800000.0,23241600000.0,38188800000.0,20131200000.0,15552000000.0,518400000.0,19094400000.0,10627200000.0,10800000000.0,18835200000.0,33264000000.0,142646400000.0,63072000000.0,85968000000.0,116726400000.0,77414400000.0,7430400000.0,22550400000.0,33350400000.0,7171200000.0,21168000000.0,51494400000.0,94953600000.0,15552000000.0,42768000000.0,63936000000.0,26611200000.0,39744000000.0,78019200000.0,31622400000.0,32572800000.0,40176000000.0,4579200000.0,7862400000.0,52272000000.0,16588800000.0,42249600000.0,59788800000.0,53136000000.0,65664000000.0,22982400000.0,15033600000.0,138326400000.0,32313600000.0,69552000000.0,65491200000.0,23846400000.0,116640000000.0,15811200000.0,15897600000.0,126230400000.0,128476800000.0,11059200000.0,85622400000.0,71107200000.0],\"xaxis\":\"x\",\"y\":[\"SOLIDARIEDADE\",\"SOLIDARIEDADE\",\"SOLIDARIEDADE\",\"REPUBLICANOS\",\"REPUBLICANOS\",\"REPUBLICANOS\",\"REDE\",\"PV\",\"PV\",\"PTC\",\"PTC\",\"PTB\",\"PTB\",\"PTB\",\"PTB\",\"PTB\",\"PT\",\"PT\",\"PT\",\"PT\",\"PT\",\"PSTU\",\"PSOL\",\"PSOL\",\"PSL\",\"PSL\",\"PSL\",\"PSL\",\"PSL\",\"PSDB\",\"PSDB\",\"PSDB\",\"PSDB\",\"PSDB\",\"PSDB\",\"PSD\",\"PSD\",\"PSC\",\"PSC\",\"PSB\",\"PSB\",\"PRTB\",\"PRTB\",\"PRTB\",\"PROS\",\"PROS\",\"PPL\",\"PP\",\"PP\",\"PP\",\"PP\",\"PP\",\"PP\",\"PP\",\"PP\",\"PP\",\"PODE\",\"PODE\",\"PMN\",\"PMDB\",\"PMDB\",\"PMDB\",\"PMDB\",\"PMDB\",\"PMDB\",\"PMDB\",\"PMB\",\"PMB\",\"PL\",\"PL\",\"PL\",\"PL\",\"PDT\",\"PDT\",\"PDT\",\"PDT\",\"PDT\",\"PDT\",\"PDT\",\"PDT\",\"PCDOB\",\"PCDOB\",\"PCDOB\",\"PATRIOTA\",\"PATRIOTA\",\"PATRIOTA\",\"MDB\",\"MDB\",\"MDB\",\"DEM\",\"DEM\",\"DC\",\"DC\",\"CIDADANIA\",\"CIDADANIA\",\"AVANTE\",\"AVANTE\",\"AVANTE\"],\"yaxis\":\"y\",\"type\":\"bar\"}],                        {\"template\":{\"data\":{\"bar\":[{\"error_x\":{\"color\":\"#2a3f5f\"},\"error_y\":{\"color\":\"#2a3f5f\"},\"marker\":{\"line\":{\"color\":\"#E5ECF6\",\"width\":0.5},\"pattern\":{\"fillmode\":\"overlay\",\"size\":10,\"solidity\":0.2}},\"type\":\"bar\"}],\"barpolar\":[{\"marker\":{\"line\":{\"color\":\"#E5ECF6\",\"width\":0.5},\"pattern\":{\"fillmode\":\"overlay\",\"size\":10,\"solidity\":0.2}},\"type\":\"barpolar\"}],\"carpet\":[{\"aaxis\":{\"endlinecolor\":\"#2a3f5f\",\"gridcolor\":\"white\",\"linecolor\":\"white\",\"minorgridcolor\":\"white\",\"startlinecolor\":\"#2a3f5f\"},\"baxis\":{\"endlinecolor\":\"#2a3f5f\",\"gridcolor\":\"white\",\"linecolor\":\"white\",\"minorgridcolor\":\"white\",\"startlinecolor\":\"#2a3f5f\"},\"type\":\"carpet\"}],\"choropleth\":[{\"colorbar\":{\"outlinewidth\":0,\"ticks\":\"\"},\"type\":\"choropleth\"}],\"contour\":[{\"colorbar\":{\"outlinewidth\":0,\"ticks\":\"\"},\"colorscale\":[[0.0,\"#0d0887\"],[0.1111111111111111,\"#46039f\"],[0.2222222222222222,\"#7201a8\"],[0.3333333333333333,\"#9c179e\"],[0.4444444444444444,\"#bd3786\"],[0.5555555555555556,\"#d8576b\"],[0.6666666666666666,\"#ed7953\"],[0.7777777777777778,\"#fb9f3a\"],[0.8888888888888888,\"#fdca26\"],[1.0,\"#f0f921\"]],\"type\":\"contour\"}],\"contourcarpet\":[{\"colorbar\":{\"outlinewidth\":0,\"ticks\":\"\"},\"type\":\"contourcarpet\"}],\"heatmap\":[{\"colorbar\":{\"outlinewidth\":0,\"ticks\":\"\"},\"colorscale\":[[0.0,\"#0d0887\"],[0.1111111111111111,\"#46039f\"],[0.2222222222222222,\"#7201a8\"],[0.3333333333333333,\"#9c179e\"],[0.4444444444444444,\"#bd3786\"],[0.5555555555555556,\"#d8576b\"],[0.6666666666666666,\"#ed7953\"],[0.7777777777777778,\"#fb9f3a\"],[0.8888888888888888,\"#fdca26\"],[1.0,\"#f0f921\"]],\"type\":\"heatmap\"}],\"heatmapgl\":[{\"colorbar\":{\"outlinewidth\":0,\"ticks\":\"\"},\"colorscale\":[[0.0,\"#0d0887\"],[0.1111111111111111,\"#46039f\"],[0.2222222222222222,\"#7201a8\"],[0.3333333333333333,\"#9c179e\"],[0.4444444444444444,\"#bd3786\"],[0.5555555555555556,\"#d8576b\"],[0.6666666666666666,\"#ed7953\"],[0.7777777777777778,\"#fb9f3a\"],[0.8888888888888888,\"#fdca26\"],[1.0,\"#f0f921\"]],\"type\":\"heatmapgl\"}],\"histogram\":[{\"marker\":{\"pattern\":{\"fillmode\":\"overlay\",\"size\":10,\"solidity\":0.2}},\"type\":\"histogram\"}],\"histogram2d\":[{\"colorbar\":{\"outlinewidth\":0,\"ticks\":\"\"},\"colorscale\":[[0.0,\"#0d0887\"],[0.1111111111111111,\"#46039f\"],[0.2222222222222222,\"#7201a8\"],[0.3333333333333333,\"#9c179e\"],[0.4444444444444444,\"#bd3786\"],[0.5555555555555556,\"#d8576b\"],[0.6666666666666666,\"#ed7953\"],[0.7777777777777778,\"#fb9f3a\"],[0.8888888888888888,\"#fdca26\"],[1.0,\"#f0f921\"]],\"type\":\"histogram2d\"}],\"histogram2dcontour\":[{\"colorbar\":{\"outlinewidth\":0,\"ticks\":\"\"},\"colorscale\":[[0.0,\"#0d0887\"],[0.1111111111111111,\"#46039f\"],[0.2222222222222222,\"#7201a8\"],[0.3333333333333333,\"#9c179e\"],[0.4444444444444444,\"#bd3786\"],[0.5555555555555556,\"#d8576b\"],[0.6666666666666666,\"#ed7953\"],[0.7777777777777778,\"#fb9f3a\"],[0.8888888888888888,\"#fdca26\"],[1.0,\"#f0f921\"]],\"type\":\"histogram2dcontour\"}],\"mesh3d\":[{\"colorbar\":{\"outlinewidth\":0,\"ticks\":\"\"},\"type\":\"mesh3d\"}],\"parcoords\":[{\"line\":{\"colorbar\":{\"outlinewidth\":0,\"ticks\":\"\"}},\"type\":\"parcoords\"}],\"pie\":[{\"automargin\":true,\"type\":\"pie\"}],\"scatter\":[{\"marker\":{\"colorbar\":{\"outlinewidth\":0,\"ticks\":\"\"}},\"type\":\"scatter\"}],\"scatter3d\":[{\"line\":{\"colorbar\":{\"outlinewidth\":0,\"ticks\":\"\"}},\"marker\":{\"colorbar\":{\"outlinewidth\":0,\"ticks\":\"\"}},\"type\":\"scatter3d\"}],\"scattercarpet\":[{\"marker\":{\"colorbar\":{\"outlinewidth\":0,\"ticks\":\"\"}},\"type\":\"scattercarpet\"}],\"scattergeo\":[{\"marker\":{\"colorbar\":{\"outlinewidth\":0,\"ticks\":\"\"}},\"type\":\"scattergeo\"}],\"scattergl\":[{\"marker\":{\"colorbar\":{\"outlinewidth\":0,\"ticks\":\"\"}},\"type\":\"scattergl\"}],\"scattermapbox\":[{\"marker\":{\"colorbar\":{\"outlinewidth\":0,\"ticks\":\"\"}},\"type\":\"scattermapbox\"}],\"scatterpolar\":[{\"marker\":{\"colorbar\":{\"outlinewidth\":0,\"ticks\":\"\"}},\"type\":\"scatterpolar\"}],\"scatterpolargl\":[{\"marker\":{\"colorbar\":{\"outlinewidth\":0,\"ticks\":\"\"}},\"type\":\"scatterpolargl\"}],\"scatterternary\":[{\"marker\":{\"colorbar\":{\"outlinewidth\":0,\"ticks\":\"\"}},\"type\":\"scatterternary\"}],\"surface\":[{\"colorbar\":{\"outlinewidth\":0,\"ticks\":\"\"},\"colorscale\":[[0.0,\"#0d0887\"],[0.1111111111111111,\"#46039f\"],[0.2222222222222222,\"#7201a8\"],[0.3333333333333333,\"#9c179e\"],[0.4444444444444444,\"#bd3786\"],[0.5555555555555556,\"#d8576b\"],[0.6666666666666666,\"#ed7953\"],[0.7777777777777778,\"#fb9f3a\"],[0.8888888888888888,\"#fdca26\"],[1.0,\"#f0f921\"]],\"type\":\"surface\"}],\"table\":[{\"cells\":{\"fill\":{\"color\":\"#EBF0F8\"},\"line\":{\"color\":\"white\"}},\"header\":{\"fill\":{\"color\":\"#C8D4E3\"},\"line\":{\"color\":\"white\"}},\"type\":\"table\"}]},\"layout\":{\"annotationdefaults\":{\"arrowcolor\":\"#2a3f5f\",\"arrowhead\":0,\"arrowwidth\":1},\"autotypenumbers\":\"strict\",\"coloraxis\":{\"colorbar\":{\"outlinewidth\":0,\"ticks\":\"\"}},\"colorscale\":{\"diverging\":[[0,\"#8e0152\"],[0.1,\"#c51b7d\"],[0.2,\"#de77ae\"],[0.3,\"#f1b6da\"],[0.4,\"#fde0ef\"],[0.5,\"#f7f7f7\"],[0.6,\"#e6f5d0\"],[0.7,\"#b8e186\"],[0.8,\"#7fbc41\"],[0.9,\"#4d9221\"],[1,\"#276419\"]],\"sequential\":[[0.0,\"#0d0887\"],[0.1111111111111111,\"#46039f\"],[0.2222222222222222,\"#7201a8\"],[0.3333333333333333,\"#9c179e\"],[0.4444444444444444,\"#bd3786\"],[0.5555555555555556,\"#d8576b\"],[0.6666666666666666,\"#ed7953\"],[0.7777777777777778,\"#fb9f3a\"],[0.8888888888888888,\"#fdca26\"],[1.0,\"#f0f921\"]],\"sequentialminus\":[[0.0,\"#0d0887\"],[0.1111111111111111,\"#46039f\"],[0.2222222222222222,\"#7201a8\"],[0.3333333333333333,\"#9c179e\"],[0.4444444444444444,\"#bd3786\"],[0.5555555555555556,\"#d8576b\"],[0.6666666666666666,\"#ed7953\"],[0.7777777777777778,\"#fb9f3a\"],[0.8888888888888888,\"#fdca26\"],[1.0,\"#f0f921\"]]},\"colorway\":[\"#636efa\",\"#EF553B\",\"#00cc96\",\"#ab63fa\",\"#FFA15A\",\"#19d3f3\",\"#FF6692\",\"#B6E880\",\"#FF97FF\",\"#FECB52\"],\"font\":{\"color\":\"#2a3f5f\"},\"geo\":{\"bgcolor\":\"white\",\"lakecolor\":\"white\",\"landcolor\":\"#E5ECF6\",\"showlakes\":true,\"showland\":true,\"subunitcolor\":\"white\"},\"hoverlabel\":{\"align\":\"left\"},\"hovermode\":\"closest\",\"mapbox\":{\"style\":\"light\"},\"paper_bgcolor\":\"white\",\"plot_bgcolor\":\"#E5ECF6\",\"polar\":{\"angularaxis\":{\"gridcolor\":\"white\",\"linecolor\":\"white\",\"ticks\":\"\"},\"bgcolor\":\"#E5ECF6\",\"radialaxis\":{\"gridcolor\":\"white\",\"linecolor\":\"white\",\"ticks\":\"\"}},\"scene\":{\"xaxis\":{\"backgroundcolor\":\"#E5ECF6\",\"gridcolor\":\"white\",\"gridwidth\":2,\"linecolor\":\"white\",\"showbackground\":true,\"ticks\":\"\",\"zerolinecolor\":\"white\"},\"yaxis\":{\"backgroundcolor\":\"#E5ECF6\",\"gridcolor\":\"white\",\"gridwidth\":2,\"linecolor\":\"white\",\"showbackground\":true,\"ticks\":\"\",\"zerolinecolor\":\"white\"},\"zaxis\":{\"backgroundcolor\":\"#E5ECF6\",\"gridcolor\":\"white\",\"gridwidth\":2,\"linecolor\":\"white\",\"showbackground\":true,\"ticks\":\"\",\"zerolinecolor\":\"white\"}},\"shapedefaults\":{\"line\":{\"color\":\"#2a3f5f\"}},\"ternary\":{\"aaxis\":{\"gridcolor\":\"white\",\"linecolor\":\"white\",\"ticks\":\"\"},\"baxis\":{\"gridcolor\":\"white\",\"linecolor\":\"white\",\"ticks\":\"\"},\"bgcolor\":\"#E5ECF6\",\"caxis\":{\"gridcolor\":\"white\",\"linecolor\":\"white\",\"ticks\":\"\"}},\"title\":{\"x\":0.05},\"xaxis\":{\"automargin\":true,\"gridcolor\":\"white\",\"linecolor\":\"white\",\"ticks\":\"\",\"title\":{\"standoff\":15},\"zerolinecolor\":\"white\",\"zerolinewidth\":2},\"yaxis\":{\"automargin\":true,\"gridcolor\":\"white\",\"linecolor\":\"white\",\"ticks\":\"\",\"title\":{\"standoff\":15},\"zerolinecolor\":\"white\",\"zerolinewidth\":2}}},\"xaxis\":{\"anchor\":\"y\",\"domain\":[0.0,1.0],\"type\":\"date\"},\"yaxis\":{\"anchor\":\"x\",\"domain\":[0.0,1.0],\"title\":{\"text\":\"Partido\"},\"autorange\":\"reversed\"},\"coloraxis\":{\"colorbar\":{\"title\":{\"text\":\"Tipo do \\u00d3rg\\u00e3o\"}},\"colorscale\":[[0.0,\"#0d0887\"],[0.1111111111111111,\"#46039f\"],[0.2222222222222222,\"#7201a8\"],[0.3333333333333333,\"#9c179e\"],[0.4444444444444444,\"#bd3786\"],[0.5555555555555556,\"#d8576b\"],[0.6666666666666666,\"#ed7953\"],[0.7777777777777778,\"#fb9f3a\"],[0.8888888888888888,\"#fdca26\"],[1.0,\"#f0f921\"]]},\"legend\":{\"tracegroupgap\":0},\"margin\":{\"t\":60},\"barmode\":\"overlay\"},                        {\"responsive\": true}                    ).then(function(){\n",
       "                            \n",
       "var gd = document.getElementById('2c8fe831-89cb-4eea-b8cc-5893db10f2aa');\n",
       "var x = new MutationObserver(function (mutations, observer) {{\n",
       "        var display = window.getComputedStyle(gd).display;\n",
       "        if (!display || display === 'none') {{\n",
       "            console.log([gd, 'removed!']);\n",
       "            Plotly.purge(gd);\n",
       "            observer.disconnect();\n",
       "        }}\n",
       "}});\n",
       "\n",
       "// Listen for the removal of the full notebook cells\n",
       "var notebookContainer = gd.closest('#notebook-container');\n",
       "if (notebookContainer) {{\n",
       "    x.observe(notebookContainer, {childList: true});\n",
       "}}\n",
       "\n",
       "// Listen for the clearing of the current output cell\n",
       "var outputEl = gd.closest('.output');\n",
       "if (outputEl) {{\n",
       "    x.observe(outputEl, {childList: true});\n",
       "}}\n",
       "\n",
       "                        })                };                });            </script>        </div>"
      ]
     },
     "metadata": {},
     "output_type": "display_data"
    }
   ],
   "source": [
    "funcao_temporal_all(df = df, partido = 'Todos', cidade = 'TAUBATÉ', estado = 'SP', condicao = 'Partido')"
   ]
  },
  {
   "cell_type": "code",
   "execution_count": null,
   "id": "dbd638e9",
   "metadata": {},
   "outputs": [],
   "source": [
    "\n"
   ]
  }
 ],
 "metadata": {
  "kernelspec": {
   "display_name": "Python 3 (ipykernel)",
   "language": "python",
   "name": "python3"
  },
  "language_info": {
   "codemirror_mode": {
    "name": "ipython",
    "version": 3
   },
   "file_extension": ".py",
   "mimetype": "text/x-python",
   "name": "python",
   "nbconvert_exporter": "python",
   "pygments_lexer": "ipython3",
   "version": "3.9.12"
  }
 },
 "nbformat": 4,
 "nbformat_minor": 5
}
